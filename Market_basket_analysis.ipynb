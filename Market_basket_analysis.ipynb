{
  "nbformat": 4,
  "nbformat_minor": 0,
  "metadata": {
    "colab": {
      "name": "Market-basket analysis.ipynb",
      "provenance": [],
      "collapsed_sections": [],
      "toc_visible": true,
      "authorship_tag": "ABX9TyMDlNnF+JAFmUWjYQQlDKrg",
      "include_colab_link": true
    },
    "kernelspec": {
      "name": "python3",
      "display_name": "Python 3"
    },
    "language_info": {
      "name": "python"
    }
  },
  "cells": [
    {
      "cell_type": "markdown",
      "metadata": {
        "id": "view-in-github",
        "colab_type": "text"
      },
      "source": [
        "<a href=\"https://colab.research.google.com/github/sergiopicascia/market-basket-analysis/blob/main/Market_basket_analysis.ipynb\" target=\"_parent\"><img src=\"https://colab.research.google.com/assets/colab-badge.svg\" alt=\"Open In Colab\"/></a>"
      ]
    },
    {
      "cell_type": "code",
      "metadata": {
        "id": "yicAABCa17h1"
      },
      "source": [
        "from google.colab import files\n",
        "import pandas as pd"
      ],
      "execution_count": 1,
      "outputs": []
    },
    {
      "cell_type": "markdown",
      "metadata": {
        "id": "7OZEVUWmRoAJ"
      },
      "source": [
        "# Data Import"
      ]
    },
    {
      "cell_type": "code",
      "metadata": {
        "colab": {
          "resources": {
            "http://localhost:8080/nbextensions/google.colab/files.js": {
              "data": "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",
              "ok": true,
              "headers": [
                [
                  "content-type",
                  "application/javascript"
                ]
              ],
              "status": 200,
              "status_text": ""
            }
          },
          "base_uri": "https://localhost:8080/",
          "height": 72
        },
        "id": "fVWyQsuU0Buf",
        "outputId": "f732a6da-78b3-4c96-a235-8c33de1f3f5e"
      },
      "source": [
        "# Connection with Kaggle API\n",
        "files.upload() # Upload kaggle.json\n",
        "! mkdir ~/.kaggle\n",
        "! cp kaggle.json ~/.kaggle/\n",
        "! chmod 600 ~/.kaggle/kaggle.json"
      ],
      "execution_count": 2,
      "outputs": [
        {
          "output_type": "display_data",
          "data": {
            "text/html": [
              "\n",
              "     <input type=\"file\" id=\"files-d228241f-44af-4d5d-82d5-5a410c78dce7\" name=\"files[]\" multiple disabled\n",
              "        style=\"border:none\" />\n",
              "     <output id=\"result-d228241f-44af-4d5d-82d5-5a410c78dce7\">\n",
              "      Upload widget is only available when the cell has been executed in the\n",
              "      current browser session. Please rerun this cell to enable.\n",
              "      </output>\n",
              "      <script src=\"/nbextensions/google.colab/files.js\"></script> "
            ],
            "text/plain": [
              "<IPython.core.display.HTML object>"
            ]
          },
          "metadata": {
            "tags": []
          }
        },
        {
          "output_type": "stream",
          "text": [
            "Saving kaggle.json to kaggle.json\n"
          ],
          "name": "stdout"
        }
      ]
    },
    {
      "cell_type": "code",
      "metadata": {
        "colab": {
          "base_uri": "https://localhost:8080/"
        },
        "id": "zIM6Ugb-1W6V",
        "outputId": "4a75d02e-f0c7-4b92-b101-57eeef1e52aa"
      },
      "source": [
        "# Download dataset\n",
        "! kaggle datasets download -d ashirwadsangwan/imdb-dataset"
      ],
      "execution_count": 3,
      "outputs": [
        {
          "output_type": "stream",
          "text": [
            "Downloading imdb-dataset.zip to /content\n",
            " 99% 1.42G/1.44G [00:12<00:00, 122MB/s]\n",
            "100% 1.44G/1.44G [00:13<00:00, 119MB/s]\n"
          ],
          "name": "stdout"
        }
      ]
    },
    {
      "cell_type": "code",
      "metadata": {
        "colab": {
          "base_uri": "https://localhost:8080/"
        },
        "id": "yysmVKgm2FAo",
        "outputId": "60c631b9-3d9f-49a6-ecb0-2d3583f766d9"
      },
      "source": [
        "# Unzip files\n",
        "! unzip imdb-dataset.zip -d imdb"
      ],
      "execution_count": 4,
      "outputs": [
        {
          "output_type": "stream",
          "text": [
            "Archive:  imdb-dataset.zip\n",
            "  inflating: imdb/name.basics.tsv.gz  \n",
            "  inflating: imdb/name.basics.tsv/name.basics.tsv  \n",
            "  inflating: imdb/title.akas.tsv.gz  \n",
            "  inflating: imdb/title.akas.tsv/title.akas.tsv  \n",
            "  inflating: imdb/title.basics.tsv.gz  \n",
            "  inflating: imdb/title.basics.tsv/title.basics.tsv  \n",
            "  inflating: imdb/title.principals.tsv.gz  \n",
            "  inflating: imdb/title.principals.tsv/title.principals.tsv  \n",
            "  inflating: imdb/title.ratings.tsv.gz  \n",
            "  inflating: imdb/title.ratings.tsv/title.ratings.tsv  \n"
          ],
          "name": "stdout"
        }
      ]
    },
    {
      "cell_type": "code",
      "metadata": {
        "colab": {
          "base_uri": "https://localhost:8080/"
        },
        "id": "9l1h127NRvm4",
        "outputId": "ad7c1d9c-3ecf-4bec-8847-103b2441da2e"
      },
      "source": [
        "# Install pyspark\n",
        "!pip install pyspark"
      ],
      "execution_count": 5,
      "outputs": [
        {
          "output_type": "stream",
          "text": [
            "Collecting pyspark\n",
            "\u001b[?25l  Downloading https://files.pythonhosted.org/packages/45/b0/9d6860891ab14a39d4bddf80ba26ce51c2f9dc4805e5c6978ac0472c120a/pyspark-3.1.1.tar.gz (212.3MB)\n",
            "\u001b[K     |████████████████████████████████| 212.3MB 68kB/s \n",
            "\u001b[?25hCollecting py4j==0.10.9\n",
            "\u001b[?25l  Downloading https://files.pythonhosted.org/packages/9e/b6/6a4fb90cd235dc8e265a6a2067f2a2c99f0d91787f06aca4bcf7c23f3f80/py4j-0.10.9-py2.py3-none-any.whl (198kB)\n",
            "\u001b[K     |████████████████████████████████| 204kB 13.2MB/s \n",
            "\u001b[?25hBuilding wheels for collected packages: pyspark\n",
            "  Building wheel for pyspark (setup.py) ... \u001b[?25l\u001b[?25hdone\n",
            "  Created wheel for pyspark: filename=pyspark-3.1.1-py2.py3-none-any.whl size=212767604 sha256=c370d01e02427f09d48484bda86ac685a998d0057e4fa6e14e2cc562153d9d06\n",
            "  Stored in directory: /root/.cache/pip/wheels/0b/90/c0/01de724414ef122bd05f056541fb6a0ecf47c7ca655f8b3c0f\n",
            "Successfully built pyspark\n",
            "Installing collected packages: py4j, pyspark\n",
            "Successfully installed py4j-0.10.9 pyspark-3.1.1\n"
          ],
          "name": "stdout"
        }
      ]
    },
    {
      "cell_type": "markdown",
      "metadata": {
        "id": "vt_v6LQbzXqZ"
      },
      "source": [
        "# Data Manipulation"
      ]
    },
    {
      "cell_type": "code",
      "metadata": {
        "colab": {
          "base_uri": "https://localhost:8080/"
        },
        "id": "HebInUo6Sain",
        "outputId": "6edc43e9-83b8-4411-cb09-fc2710a93378"
      },
      "source": [
        "# Create a PySpark DataFrame\n",
        "from pyspark.sql import SparkSession\n",
        "\n",
        "path = r'/content/imdb/title.principals.tsv/title.principals.tsv'\n",
        "spark = SparkSession.builder.enableHiveSupport().getOrCreate()\n",
        "principals = (spark.read.options(header=True, delimiter='\\t', inferSchema = True)\n",
        "              .format('csv').load(path))\n",
        "\n",
        "principals.show(10)"
      ],
      "execution_count": 6,
      "outputs": [
        {
          "output_type": "stream",
          "text": [
            "+---------+--------+---------+---------------+--------------------+-----------+\n",
            "|   tconst|ordering|   nconst|       category|                 job| characters|\n",
            "+---------+--------+---------+---------------+--------------------+-----------+\n",
            "|tt0000001|       1|nm1588970|           self|                  \\N|[\"Herself\"]|\n",
            "|tt0000001|       2|nm0005690|       director|                  \\N|         \\N|\n",
            "|tt0000001|       3|nm0374658|cinematographer|director of photo...|         \\N|\n",
            "|tt0000002|       1|nm0721526|       director|                  \\N|         \\N|\n",
            "|tt0000002|       2|nm1335271|       composer|                  \\N|         \\N|\n",
            "|tt0000003|       1|nm0721526|       director|                  \\N|         \\N|\n",
            "|tt0000003|       2|nm5442194|       producer|            producer|         \\N|\n",
            "|tt0000003|       3|nm1335271|       composer|                  \\N|         \\N|\n",
            "|tt0000003|       4|nm5442200|         editor|                  \\N|         \\N|\n",
            "|tt0000004|       1|nm0721526|       director|                  \\N|         \\N|\n",
            "+---------+--------+---------+---------------+--------------------+-----------+\n",
            "only showing top 10 rows\n",
            "\n"
          ],
          "name": "stdout"
        }
      ]
    },
    {
      "cell_type": "code",
      "metadata": {
        "colab": {
          "base_uri": "https://localhost:8080/"
        },
        "id": "mKy0oUn8T3mu",
        "outputId": "77ce75ff-af44-4d62-98b2-decf6b920c12"
      },
      "source": [
        "# Creating a lazy evaluation view of principals\n",
        "principals.createOrReplaceTempView(\"principals\")\n",
        "\n",
        "# Performing a query in order to retrieve only actors/actresses and \n",
        "# the movie in which they partecipated\n",
        "principals = spark.sql(\"SELECT tconst, nconst FROM principals WHERE (category = 'actor' or category = 'actress')\")\n",
        "principals.show(10)"
      ],
      "execution_count": 7,
      "outputs": [
        {
          "output_type": "stream",
          "text": [
            "+---------+---------+\n",
            "|   tconst|   nconst|\n",
            "+---------+---------+\n",
            "|tt0000005|nm0443482|\n",
            "|tt0000005|nm0653042|\n",
            "|tt0000007|nm0179163|\n",
            "|tt0000007|nm0183947|\n",
            "|tt0000008|nm0653028|\n",
            "|tt0000009|nm0063086|\n",
            "|tt0000009|nm0183823|\n",
            "|tt0000009|nm1309758|\n",
            "|tt0000011|nm3692297|\n",
            "|tt0000014|nm0166380|\n",
            "+---------+---------+\n",
            "only showing top 10 rows\n",
            "\n"
          ],
          "name": "stdout"
        }
      ]
    },
    {
      "cell_type": "code",
      "metadata": {
        "colab": {
          "base_uri": "https://localhost:8080/"
        },
        "id": "2WuimAGl2Up0",
        "outputId": "12bc1dd3-7178-4347-bb84-87d7d5e39279"
      },
      "source": [
        "# Count of rows in dataframe\n",
        "principals.count()"
      ],
      "execution_count": 8,
      "outputs": [
        {
          "output_type": "execute_result",
          "data": {
            "text/plain": [
              "14818798"
            ]
          },
          "metadata": {
            "tags": []
          },
          "execution_count": 8
        }
      ]
    },
    {
      "cell_type": "code",
      "metadata": {
        "colab": {
          "base_uri": "https://localhost:8080/"
        },
        "id": "Et1WpGQC3NKy",
        "outputId": "5db2121f-2e5b-4278-bfb1-e9067c537a2f"
      },
      "source": [
        "# Count of unique rows in dataframe\n",
        "principals.dropDuplicates(['tconst', 'nconst']).count() # Try with distinct"
      ],
      "execution_count": 9,
      "outputs": [
        {
          "output_type": "execute_result",
          "data": {
            "text/plain": [
              "14818203"
            ]
          },
          "metadata": {
            "tags": []
          },
          "execution_count": 9
        }
      ]
    },
    {
      "cell_type": "code",
      "metadata": {
        "colab": {
          "base_uri": "https://localhost:8080/"
        },
        "id": "HH3bzdM13vrd",
        "outputId": "b1a66a36-7e24-4ca8-f4d6-aeb521558312"
      },
      "source": [
        "# Drop duplicates and rename columns\n",
        "principals = principals.dropDuplicates(['tconst', 'nconst']) \\\n",
        "            .withColumnRenamed('tconst', 'movie') \\\n",
        "            .withColumnRenamed('nconst', 'actor')\n",
        "\n",
        "principals.show(10)"
      ],
      "execution_count": 10,
      "outputs": [
        {
          "output_type": "stream",
          "text": [
            "+---------+---------+\n",
            "|    movie|    actor|\n",
            "+---------+---------+\n",
            "|tt0000091|nm0617588|\n",
            "|tt0000165|nm0278321|\n",
            "|tt0000609|nm0215516|\n",
            "|tt0000768|nm0647719|\n",
            "|tt0000781|nm0492757|\n",
            "|tt0000870|nm0038106|\n",
            "|tt0000951|nm0088881|\n",
            "|tt0001018|nm0007221|\n",
            "|tt0001046|nm0424530|\n",
            "|tt0001067|nm0364516|\n",
            "+---------+---------+\n",
            "only showing top 10 rows\n",
            "\n"
          ],
          "name": "stdout"
        }
      ]
    },
    {
      "cell_type": "code",
      "metadata": {
        "colab": {
          "base_uri": "https://localhost:8080/"
        },
        "id": "6NynQ9nW6lUI",
        "outputId": "7697fcbf-1e43-4662-f8d7-03b9710194b1"
      },
      "source": [
        "# Count number of unique movies and actors\n",
        "n_movies = principals.dropDuplicates(['movie']).count()\n",
        "n_actors = principals.dropDuplicates(['actor']).count()\n",
        "\n",
        "print(\"The dataframe contains {} movies (baskets) and {} actors (items).\".format(n_movies, n_actors))"
      ],
      "execution_count": 11,
      "outputs": [
        {
          "output_type": "stream",
          "text": [
            "The dataframe contains 3598991 movies (baskets) and 1867043 actors (items).\n"
          ],
          "name": "stdout"
        }
      ]
    },
    {
      "cell_type": "markdown",
      "metadata": {
        "id": "RcZ3er_AiQqO"
      },
      "source": [
        "# Exploratory Data Analysis"
      ]
    },
    {
      "cell_type": "code",
      "metadata": {
        "colab": {
          "base_uri": "https://localhost:8080/"
        },
        "id": "a8_KlgBe0Ypl",
        "outputId": "99ec9740-8448-4b94-f7a7-fc61defbce62"
      },
      "source": [
        "from pyspark.sql.functions import collect_set\n",
        "\n",
        "# Grouping by movie and extrapolating baskets (movies) of items (actors)\n",
        "baskets = principals.groupBy('movie').agg(collect_set('actor').alias('actors'))\n",
        "baskets.createOrReplaceTempView('baskets')\n",
        "baskets.show(10, truncate=False)"
      ],
      "execution_count": 12,
      "outputs": [
        {
          "output_type": "stream",
          "text": [
            "+---------+--------------------------------------------------------------------------------------------------------------+\n",
            "|movie    |actors                                                                                                        |\n",
            "+---------+--------------------------------------------------------------------------------------------------------------+\n",
            "|tt0001170|[nm0161366, nm0865178, nm0001908, nm0607104, nm0639631, nm0693055, nm0930290, nm0355582, nm0789632, nm1400009]|\n",
            "|tt0001664|[nm0616729, nm0806961, nm0492757, nm0424530, nm1190291]                                                       |\n",
            "|tt0001732|[nm0532996, nm0367556, nm0531759, nm0790137, nm0681933, nm0681931]                                            |\n",
            "|tt0001887|[nm0681933]                                                                                                   |\n",
            "|tt0002253|[nm0537556, nm0524306, nm0115524, nm0366008, nm0000859, nm0043018, nm0681933]                                 |\n",
            "|tt0002473|[nm0537556, nm0366008, nm0041858, nm0568282, nm0867118, nm0376442, nm0550615]                                 |\n",
            "|tt0002588|[nm0508592, nm0037124, nm0449136, nm1979952, nm0029029, nm0218469, nm0346808]                                 |\n",
            "|tt0002591|[nm0029806, nm0509573]                                                                                        |\n",
            "|tt0002667|[nm0938059, nm0756814, nm1160080, nm0166958, nm0085877, nm0922396, nm1160117]                                 |\n",
            "|tt0003043|[nm0069327, nm0925310, nm0055865, nm0201360]                                                                  |\n",
            "+---------+--------------------------------------------------------------------------------------------------------------+\n",
            "only showing top 10 rows\n",
            "\n"
          ],
          "name": "stdout"
        }
      ]
    },
    {
      "cell_type": "code",
      "metadata": {
        "colab": {
          "base_uri": "https://localhost:8080/"
        },
        "id": "ul77fcjLkj9j",
        "outputId": "91be2a86-9808-44b4-f1d8-12334715e8bc"
      },
      "source": [
        "# Import data about movies and actors\n",
        "titles = (spark.read.options(header=True, delimiter='\\t', inferSchema = True)\n",
        "          .format('csv').load(r'/content/imdb/title.basics.tsv/title.basics.tsv'))\n",
        "\n",
        "names = (spark.read.options(header=True, delimiter='\\t', inferSchema = True)\n",
        "          .format('csv').load(r'/content/imdb/name.basics.tsv/name.basics.tsv'))\n",
        "\n",
        "# Creating lazy evaluation views of movies and actors\n",
        "titles.createOrReplaceTempView(\"titles\")\n",
        "names.createOrReplaceTempView(\"names\")\n",
        "\n",
        "titles.show(10)"
      ],
      "execution_count": 13,
      "outputs": [
        {
          "output_type": "stream",
          "text": [
            "+---------+---------+--------------------+--------------------+-------+---------+-------+--------------+--------------------+\n",
            "|   tconst|titleType|        primaryTitle|       originalTitle|isAdult|startYear|endYear|runtimeMinutes|              genres|\n",
            "+---------+---------+--------------------+--------------------+-------+---------+-------+--------------+--------------------+\n",
            "|tt0000001|    short|          Carmencita|          Carmencita|      0|     1894|     \\N|             1|   Documentary,Short|\n",
            "|tt0000002|    short|Le clown et ses c...|Le clown et ses c...|      0|     1892|     \\N|             5|     Animation,Short|\n",
            "|tt0000003|    short|      Pauvre Pierrot|      Pauvre Pierrot|      0|     1892|     \\N|             4|Animation,Comedy,...|\n",
            "|tt0000004|    short|         Un bon bock|         Un bon bock|      0|     1892|     \\N|            \\N|     Animation,Short|\n",
            "|tt0000005|    short|    Blacksmith Scene|    Blacksmith Scene|      0|     1893|     \\N|             1|        Comedy,Short|\n",
            "|tt0000006|    short|   Chinese Opium Den|   Chinese Opium Den|      0|     1894|     \\N|             1|               Short|\n",
            "|tt0000007|    short|Corbett and Court...|Corbett and Court...|      0|     1894|     \\N|             1|         Short,Sport|\n",
            "|tt0000008|    short|Edison Kinetoscop...|Edison Kinetoscop...|      0|     1894|     \\N|             1|   Documentary,Short|\n",
            "|tt0000009|    movie|          Miss Jerry|          Miss Jerry|      0|     1894|     \\N|            45|             Romance|\n",
            "|tt0000010|    short| Exiting the Factory|La sortie de l'us...|      0|     1895|     \\N|             1|   Documentary,Short|\n",
            "+---------+---------+--------------------+--------------------+-------+---------+-------+--------------+--------------------+\n",
            "only showing top 10 rows\n",
            "\n"
          ],
          "name": "stdout"
        }
      ]
    },
    {
      "cell_type": "code",
      "metadata": {
        "colab": {
          "base_uri": "https://localhost:8080/"
        },
        "id": "_qtK2U1Ol0Uh",
        "outputId": "74ddbc25-7996-42d4-da7e-51b149e5e7d4"
      },
      "source": [
        "names.show(10)"
      ],
      "execution_count": 14,
      "outputs": [
        {
          "output_type": "stream",
          "text": [
            "+---------+---------------+---------+---------+--------------------+--------------------+\n",
            "|   nconst|    primaryName|birthYear|deathYear|   primaryProfession|      knownForTitles|\n",
            "+---------+---------------+---------+---------+--------------------+--------------------+\n",
            "|nm0000001|   Fred Astaire|     1899|     1987|soundtrack,actor,...|tt0050419,tt00531...|\n",
            "|nm0000002|  Lauren Bacall|     1924|     2014|  actress,soundtrack|tt0071877,tt01170...|\n",
            "|nm0000003|Brigitte Bardot|     1934|       \\N|actress,soundtrac...|tt0054452,tt00491...|\n",
            "|nm0000004|   John Belushi|     1949|     1982|actor,writer,soun...|tt0077975,tt00725...|\n",
            "|nm0000005| Ingmar Bergman|     1918|     2007|writer,director,a...|tt0069467,tt00509...|\n",
            "|nm0000006| Ingrid Bergman|     1915|     1982|actress,soundtrac...|tt0038109,tt00368...|\n",
            "|nm0000007|Humphrey Bogart|     1899|     1957|actor,soundtrack,...|tt0043265,tt00338...|\n",
            "|nm0000008|  Marlon Brando|     1924|     2004|actor,soundtrack,...|tt0070849,tt00787...|\n",
            "|nm0000009| Richard Burton|     1925|     1984|actor,producer,so...|tt0057877,tt00878...|\n",
            "|nm0000010|   James Cagney|     1899|     1986|actor,soundtrack,...|tt0035575,tt00318...|\n",
            "+---------+---------------+---------+---------+--------------------+--------------------+\n",
            "only showing top 10 rows\n",
            "\n"
          ],
          "name": "stdout"
        }
      ]
    },
    {
      "cell_type": "code",
      "metadata": {
        "colab": {
          "base_uri": "https://localhost:8080/",
          "height": 398
        },
        "id": "K_Da_qtatq5-",
        "outputId": "9cd10940-b7a7-4d27-eb67-3dfb27064576"
      },
      "source": [
        "# Number of movies for year\n",
        "query = r\"\"\"SELECT COUNT(tconst) AS n_movies, startYear \n",
        "          FROM baskets INNER JOIN titles ON movie = tconst\n",
        "          GROUP BY startYear\"\"\"\n",
        "movies_by_year = spark.sql(query)\n",
        "movies_by_year_pd = movies_by_year.orderBy(movies_by_year['startYear'].asc()).toPandas()\n",
        "movies_by_year_pd['startYear'] = pd.to_numeric(movies_by_year_pd['startYear'], errors='coerce').dropna()\n",
        "print(movies_by_year_pd.head())\n",
        "\n",
        "# Drop last rows (year = 2115, NAs)\n",
        "movies_by_year_pd.drop(movies_by_year_pd.tail(2).index, inplace=True)\n",
        "movies_by_year_pd.plot(x='startYear', y='n_movies')"
      ],
      "execution_count": 15,
      "outputs": [
        {
          "output_type": "stream",
          "text": [
            "   n_movies  startYear\n",
            "0         1     1881.0\n",
            "1         1     1888.0\n",
            "2         3     1890.0\n",
            "3         4     1891.0\n",
            "4         1     1892.0\n"
          ],
          "name": "stdout"
        },
        {
          "output_type": "execute_result",
          "data": {
            "text/plain": [
              "<matplotlib.axes._subplots.AxesSubplot at 0x7f978adb4990>"
            ]
          },
          "metadata": {
            "tags": []
          },
          "execution_count": 15
        },
        {
          "output_type": "display_data",
          "data": {
            "image/png": "[encoded data removed]",
            "text/plain": [
              "<Figure size 432x288 with 1 Axes>"
            ]
          },
          "metadata": {
            "tags": [],
            "needs_background": "light"
          }
        }
      ]
    },
    {
      "cell_type": "code",
      "metadata": {
        "id": "9gdLbGyiji3S",
        "colab": {
          "base_uri": "https://localhost:8080/",
          "height": 467
        },
        "outputId": "03a39768-2eb7-42c8-aea6-9ddb27bb8347"
      },
      "source": [
        "# Number of movies per genre\n",
        "query = \"\"\"SELECT tconst, genres\n",
        "        FROM baskets INNER JOIN titles ON movie = tconst\n",
        "        WHERE genres IS NOT NULL\"\"\"\n",
        "movies_genre = spark.sql(query)\n",
        "movies_genre = movies_genre.select('genres').rdd.flatMap(lambda x: (x[0].split(','))).map(lambda x: (x, 1))\n",
        "movies_genre = movies_genre.reduceByKey(lambda a, b: a+b)\n",
        "movies_genre_pd = spark.createDataFrame(movies_genre).toPandas()\n",
        "movies_genre_pd.rename(columns={'_1': 'genre', '_2': 'count'}, inplace=True)\n",
        "movies_genre_pd.sort_values('count', ascending=False, inplace=True)\n",
        "print(movies_genre_pd.head())\n",
        "movies_genre_pd.plot.bar(x='genre')"
      ],
      "execution_count": 16,
      "outputs": [
        {
          "output_type": "stream",
          "text": [
            "      genre    count\n",
            "22    Drama  1509959\n",
            "5    Comedy   974381\n",
            "7     Short   558039\n",
            "13  Romance   516433\n",
            "27   Family   274830\n"
          ],
          "name": "stdout"
        },
        {
          "output_type": "execute_result",
          "data": {
            "text/plain": [
              "<matplotlib.axes._subplots.AxesSubplot at 0x7f978a7e5450>"
            ]
          },
          "metadata": {
            "tags": []
          },
          "execution_count": 16
        },
        {
          "output_type": "display_data",
          "data": {
            "image/png": "[encoded data removed]",
            "text/plain": [
              "<Figure size 432x288 with 1 Axes>"
            ]
          },
          "metadata": {
            "tags": [],
            "needs_background": "light"
          }
        }
      ]
    },
    {
      "cell_type": "code",
      "metadata": {
        "id": "5zVeD-oQFzO4",
        "colab": {
          "base_uri": "https://localhost:8080/",
          "height": 402
        },
        "outputId": "33ebaf80-048a-42ec-ecd9-eedacf090901"
      },
      "source": [
        "# Duration and year\n",
        "query = \"\"\"SELECT startYear, runtimeMinutes\n",
        "        FROM baskets INNER JOIN titles ON movie = tconst\"\"\"\n",
        "year_duration = spark.sql(query)\n",
        "year_duration_pd = year_duration.toPandas()\n",
        "year_duration_pd = year_duration_pd.apply(pd.to_numeric, errors='coerce').dropna()\n",
        "print(year_duration_pd.head())\n",
        "year_duration_pd.plot.scatter(x='startYear', y='runtimeMinutes', ylim=(0, 2000))"
      ],
      "execution_count": 17,
      "outputs": [
        {
          "output_type": "stream",
          "text": [
            "    startYear  runtimeMinutes\n",
            "4      1912.0            17.0\n",
            "5      1912.0            17.0\n",
            "6      1912.0            18.0\n",
            "14     1914.0            16.0\n",
            "15     1914.0           300.0\n"
          ],
          "name": "stdout"
        },
        {
          "output_type": "execute_result",
          "data": {
            "text/plain": [
              "<matplotlib.axes._subplots.AxesSubplot at 0x7f9788b72410>"
            ]
          },
          "metadata": {
            "tags": []
          },
          "execution_count": 17
        },
        {
          "output_type": "display_data",
          "data": {
            "image/png": "[encoded data removed]",
            "text/plain": [
              "<Figure size 432x288 with 1 Axes>"
            ]
          },
          "metadata": {
            "tags": [],
            "needs_background": "light"
          }
        }
      ]
    },
    {
      "cell_type": "markdown",
      "metadata": {
        "id": "fAqRYrNYc-p9"
      },
      "source": [
        "# Apriori"
      ]
    },
    {
      "cell_type": "code",
      "metadata": {
        "id": "k5u1gIquDTLc",
        "colab": {
          "base_uri": "https://localhost:8080/"
        },
        "outputId": "f62ae420-78fa-464e-d9d9-01fe4a26e629"
      },
      "source": [
        "# Defining support threshold\n",
        "supp = n_movies * 0.0003\n",
        "supp"
      ],
      "execution_count": 18,
      "outputs": [
        {
          "output_type": "execute_result",
          "data": {
            "text/plain": [
              "1079.6972999999998"
            ]
          },
          "metadata": {
            "tags": []
          },
          "execution_count": 18
        }
      ]
    },
    {
      "cell_type": "markdown",
      "metadata": {
        "id": "oq-0ZO1EuUjJ"
      },
      "source": [
        "### Singletons"
      ]
    },
    {
      "cell_type": "code",
      "metadata": {
        "id": "tmNdd1NLHH4q"
      },
      "source": [
        "# Use map on each item to generate singletons\n",
        "singletons = principals.select('actor').rdd.map(lambda item: (item[0], 1))"
      ],
      "execution_count": 19,
      "outputs": []
    },
    {
      "cell_type": "code",
      "metadata": {
        "id": "9Hw9tstE8vKx"
      },
      "source": [
        "# Reduce by item and count occurrences of items\n",
        "singletons = singletons.reduceByKey(lambda a, b: a+b).toDF(['actor', 'count'])"
      ],
      "execution_count": 20,
      "outputs": []
    },
    {
      "cell_type": "code",
      "metadata": {
        "id": "d4Q0vWy6KFvr",
        "colab": {
          "base_uri": "https://localhost:8080/"
        },
        "outputId": "a5b58f09-ea2a-42a8-d482-83852050d5a5"
      },
      "source": [
        "# Find frequent items according to threshold\n",
        "frequent_1 = singletons.filter(singletons['count'] >= supp)\n",
        "frequent_1.orderBy(frequent_1['count'].desc()).show()"
      ],
      "execution_count": 21,
      "outputs": [
        {
          "output_type": "stream",
          "text": [
            "+----------+-----+\n",
            "|     actor|count|\n",
            "+----------+-----+\n",
            "|nm10120013| 5746|\n",
            "| nm0151534| 4200|\n",
            "| nm0192504| 3987|\n",
            "| nm0555829| 3917|\n",
            "| nm0525123| 3817|\n",
            "| nm0708802| 3770|\n",
            "| nm0609391| 3714|\n",
            "| nm0136994| 3708|\n",
            "| nm0239134| 3568|\n",
            "| nm0164818| 3551|\n",
            "| nm5782599| 3537|\n",
            "| nm0575114| 3480|\n",
            "| nm0368990| 3359|\n",
            "| nm0115836| 3302|\n",
            "| nm4828538| 3255|\n",
            "| nm0576967| 3255|\n",
            "| nm9615265| 3254|\n",
            "| nm0764156| 3241|\n",
            "| nm0265155| 3209|\n",
            "| nm2588610| 3206|\n",
            "+----------+-----+\n",
            "only showing top 20 rows\n",
            "\n"
          ],
          "name": "stdout"
        }
      ]
    },
    {
      "cell_type": "code",
      "metadata": {
        "id": "dNeoLkljNa1n",
        "colab": {
          "base_uri": "https://localhost:8080/"
        },
        "outputId": "a94c76a2-628d-4725-ec9a-562e2031643f"
      },
      "source": [
        "# Generate list of frequent singletons\n",
        "L1 = frequent_1.rdd.map(lambda x: x[0]).collect()\n",
        "print(len(L1))"
      ],
      "execution_count": 22,
      "outputs": [
        {
          "output_type": "stream",
          "text": [
            "816\n"
          ],
          "name": "stdout"
        }
      ]
    },
    {
      "cell_type": "markdown",
      "metadata": {
        "id": "oKGbYBQAZHdj"
      },
      "source": [
        "### K-uples"
      ]
    },
    {
      "cell_type": "code",
      "metadata": {
        "id": "JjJ63z9rvVTE"
      },
      "source": [
        "import itertools\n",
        "\n",
        "def gen_kuples(x, k, Lk=None):\n",
        "  \"\"\" Generate k-uples of frequent items.\n",
        "  x: row of rdd (basket)\n",
        "  k: cardinality of combinations to find\n",
        "  Lk: set of frequent (k-1)-uples\n",
        "  \"\"\"\n",
        "\n",
        "  # Retrieve basket as list of items\n",
        "  basket = sorted(x[1])\n",
        "\n",
        "  # Check if the basket contains more than k-1 items\n",
        "  if len(basket)<k:\n",
        "    return None\n",
        "\n",
        "  # List of frequent items inside the basket\n",
        "  cand_items = [item for item in basket if item in L1]\n",
        "\n",
        "  # Generate candidate k-uples\n",
        "  if len(cand_items)>=k:\n",
        "    Ck = set(itertools.combinations(cand_items, k))\n",
        "  else:\n",
        "    return None \n",
        "\n",
        "  # Return in case of pairs (k=2), no further checks required\n",
        "  if k == 2:\n",
        "    return Ck\n",
        "\n",
        "  # Generate k-uples of frequent (k-1)-uples\n",
        "  kuples = [kuple for kuple in Ck if set(itertools.combinations(kuple, k-1)).issubset(Lk)]\n",
        "\n",
        "  return kuples"
      ],
      "execution_count": 23,
      "outputs": []
    },
    {
      "cell_type": "code",
      "metadata": {
        "id": "cpRVLhjKYCfT",
        "colab": {
          "base_uri": "https://localhost:8080/"
        },
        "outputId": "09638680-dd8c-4d83-cd66-26532f845ec2"
      },
      "source": [
        "import copy\n",
        "\n",
        "L = []\n",
        "F_1 = []\n",
        "for row in frequent_1.collect():\n",
        "  t = row[0]\n",
        "  c = row[1]\n",
        "  F_1.append((t, c))\n",
        "L.append(F_1)\n",
        "\n",
        "Lk = copy.deepcopy(L1)\n",
        "\n",
        "try:\n",
        "  # Iterate over k\n",
        "  for k in range(2, 20):\n",
        "    print('\\nk =', k, '\\n')\n",
        "    \n",
        "    # Generate a list of k-uples that are frequent in L(k-1)\n",
        "    kuples = list(filter(None, baskets.rdd.map(lambda x: gen_kuples(x, k, Lk)).collect()))\n",
        "    kuples = spark.sparkContext.parallelize(kuples)\n",
        "    \n",
        "    # Add count 1 to each k-uple\n",
        "    kuples = kuples.flatMap(lambda x: x).map(lambda x: (x, 1))\n",
        "    \n",
        "    # Reduce by key counting the number of occurrences of the k-uple\n",
        "    kuples = kuples.reduceByKey(lambda a, b: a+b).toDF([str(k)+'-uple', 'count'])\n",
        "    \n",
        "    # Retrieve only the k-uples with count above the support\n",
        "    frequent_k = kuples.filter(kuples['count'] >= supp)\n",
        "\n",
        "    F = []\n",
        "    for row in frequent_k.collect():\n",
        "      t = tuple(item for item in row[0])\n",
        "      c = row[1]\n",
        "      F.append((t, c))\n",
        "    L.append(F)   \n",
        "\n",
        "    print(frequent_k.orderBy(frequent_k['count'].desc()).show(10, truncate = False))\n",
        "\n",
        "    # Generate the list of frequent k-uples\n",
        "    Lk = set(frequent_k.rdd.map(lambda x: tuple(x[0])).collect())\n",
        "    print('\\nNumber of', k, '-uples with frequent items: ', len(Lk), '\\n\\n##########')\n",
        "\n",
        "except:\n",
        "  print('There are no sequence of elements with', k, 'items.')"
      ],
      "execution_count": 24,
      "outputs": [
        {
          "output_type": "stream",
          "text": [
            "\n",
            "k = 2 \n",
            "\n",
            "+-----------------------+-----+\n",
            "|2-uple                 |count|\n",
            "+-----------------------+-----+\n",
            "|{nm0525123, nm0609391} |3557 |\n",
            "|{nm10120013, nm9615265}|3253 |\n",
            "|{nm4828538, nm9615265} |3253 |\n",
            "|{nm10120013, nm4828538}|3253 |\n",
            "|{nm0368990, nm2588610} |3200 |\n",
            "|{nm0136994, nm0164818} |2872 |\n",
            "|{nm0136994, nm0717265} |2770 |\n",
            "|{nm0164818, nm0717265} |2680 |\n",
            "|{nm1118516, nm1801750} |2490 |\n",
            "|{nm1801750, nm4028609} |2488 |\n",
            "+-----------------------+-----+\n",
            "only showing top 10 rows\n",
            "\n",
            "None\n",
            "\n",
            "Number of 2 -uples with frequent items:  235 \n",
            "\n",
            "##########\n",
            "\n",
            "k = 3 \n",
            "\n",
            "+----------------------------------+-----+\n",
            "|3-uple                            |count|\n",
            "+----------------------------------+-----+\n",
            "|{nm10120013, nm4828538, nm9615265}|3253 |\n",
            "|{nm0136994, nm0164818, nm0717265} |2564 |\n",
            "|{nm1118516, nm1801750, nm4028609} |2488 |\n",
            "|{nm0004471, nm10120013, nm4685592}|2482 |\n",
            "|{nm1318798, nm1421364, nm2091678} |2363 |\n",
            "|{nm0865945, nm1421364, nm2091678} |2361 |\n",
            "|{nm0865945, nm1318798, nm2091678} |2361 |\n",
            "|{nm0865945, nm1318798, nm1421364} |2361 |\n",
            "|{nm1295504, nm3472277, nm5776182} |2186 |\n",
            "|{nm1100231, nm1295504, nm5776182} |2186 |\n",
            "+----------------------------------+-----+\n",
            "only showing top 10 rows\n",
            "\n",
            "None\n",
            "\n",
            "Number of 3 -uples with frequent items:  124 \n",
            "\n",
            "##########\n",
            "\n",
            "k = 4 \n",
            "\n",
            "+--------------------------------------------+-----+\n",
            "|4-uple                                      |count|\n",
            "+--------------------------------------------+-----+\n",
            "|{nm0865945, nm1318798, nm1421364, nm2091678}|2361 |\n",
            "|{nm1100231, nm1295504, nm3472277, nm5776182}|2186 |\n",
            "|{nm0634595, nm0644947, nm0645219, nm0851218}|1836 |\n",
            "|{nm5682506, nm7419934, nm7521918, nm8752957}|1799 |\n",
            "|{nm4013410, nm7356625, nm7665578, nm8905840}|1743 |\n",
            "|{nm4013410, nm5426054, nm7356625, nm8905840}|1743 |\n",
            "|{nm5426054, nm7356625, nm7665578, nm8905840}|1743 |\n",
            "|{nm4013410, nm5426054, nm7665578, nm8905840}|1743 |\n",
            "|{nm4013410, nm5426054, nm7356625, nm7665578}|1743 |\n",
            "|{nm0099704, nm0440149, nm2018861, nm2188804}|1717 |\n",
            "+--------------------------------------------+-----+\n",
            "only showing top 10 rows\n",
            "\n",
            "None\n",
            "\n",
            "Number of 4 -uples with frequent items:  33 \n",
            "\n",
            "##########\n",
            "\n",
            "k = 5 \n",
            "\n",
            "+--------------------------------------------------------+-----+\n",
            "|5-uple                                                  |count|\n",
            "+--------------------------------------------------------+-----+\n",
            "|{nm4013410, nm5426054, nm7356625, nm7665578, nm8905840} |1743 |\n",
            "|{nm10625684, nm3480406, nm5800197, nm8230796, nm8284549}|1171 |\n",
            "|{nm10001134, nm2828569, nm9870562, nm9870565, nm9871162}|1113 |\n",
            "+--------------------------------------------------------+-----+\n",
            "\n",
            "None\n",
            "\n",
            "Number of 5 -uples with frequent items:  3 \n",
            "\n",
            "##########\n",
            "\n",
            "k = 6 \n",
            "\n",
            "There are no sequence of elements with 6 items.\n"
          ],
          "name": "stdout"
        }
      ]
    },
    {
      "cell_type": "markdown",
      "metadata": {
        "id": "pn2xUb-3vvB7"
      },
      "source": [
        "# Association Rules\n"
      ]
    },
    {
      "cell_type": "code",
      "metadata": {
        "id": "pQkaPxbYuHfq"
      },
      "source": [
        "# Transform list of tuples into dictionary\n",
        "for i in range(len(L)):\n",
        "  L[i] = dict(L[i])"
      ],
      "execution_count": 25,
      "outputs": []
    },
    {
      "cell_type": "code",
      "metadata": {
        "id": "N17QNr5_gd9Y"
      },
      "source": [
        "cols = ['X', 'Y', 'Confidence', 'Lift']\n",
        "a_rules = pd.DataFrame(columns=cols)\n",
        "\n",
        "# For each (quintuple, count)\n",
        "for quintuple, n_XY in L[4].items():\n",
        "  suppXY = n_XY/n_movies # Support\n",
        "\n",
        "  k = 4\n",
        "  for i in reversed(range(1, k+1)):\n",
        "\n",
        "    for X in set(itertools.combinations(sorted(quintuple), i)):\n",
        "\n",
        "      if len(X) == 1:\n",
        "        X = X[0]\n",
        "      \n",
        "      n_X = L[i-1][X]\n",
        "      suppX = n_X/n_movies\n",
        "      \n",
        "      Y = [item for item in quintuple if item not in X]\n",
        "\n",
        "      if len(Y) == 1:\n",
        "        Y = Y[0]\n",
        "        suppY = L[0][Y]/n_movies\n",
        "      else:\n",
        "        Y = tuple(Y)\n",
        "        suppY = L[len(Y)-1][Y]/n_movies\n",
        "\n",
        "      confidence = n_XY/n_X\n",
        "      lift = suppXY/(suppX*suppY)\n",
        "\n",
        "      a_rules = a_rules.append(pd.Series([X, Y, confidence, lift],\n",
        "                                         index = cols), ignore_index=True)\n"
      ],
      "execution_count": 26,
      "outputs": []
    },
    {
      "cell_type": "code",
      "metadata": {
        "colab": {
          "base_uri": "https://localhost:8080/",
          "height": 669
        },
        "id": "fKuXoTg25O_f",
        "outputId": "43bc19d0-927d-40a3-b320-79a2e5ad542f"
      },
      "source": [
        "a_rules.sort_values('Confidence').head(20)"
      ],
      "execution_count": 31,
      "outputs": [
        {
          "output_type": "execute_result",
          "data": {
            "text/html": [
              "<div>\n",
              "<style scoped>\n",
              "    .dataframe tbody tr th:only-of-type {\n",
              "        vertical-align: middle;\n",
              "    }\n",
              "\n",
              "    .dataframe tbody tr th {\n",
              "        vertical-align: top;\n",
              "    }\n",
              "\n",
              "    .dataframe thead th {\n",
              "        text-align: right;\n",
              "    }\n",
              "</style>\n",
              "<table border=\"1\" class=\"dataframe\">\n",
              "  <thead>\n",
              "    <tr style=\"text-align: right;\">\n",
              "      <th></th>\n",
              "      <th>X</th>\n",
              "      <th>Y</th>\n",
              "      <th>Confidence</th>\n",
              "      <th>Lift</th>\n",
              "    </tr>\n",
              "  </thead>\n",
              "  <tbody>\n",
              "    <tr>\n",
              "      <th>89</th>\n",
              "      <td>nm9870562</td>\n",
              "      <td>(nm10001134, nm2828569, nm9870565, nm9871162)</td>\n",
              "      <td>0.378314</td>\n",
              "      <td>1223.314412</td>\n",
              "    </tr>\n",
              "    <tr>\n",
              "      <th>86</th>\n",
              "      <td>nm2828569</td>\n",
              "      <td>(nm10001134, nm9870562, nm9870565, nm9871162)</td>\n",
              "      <td>0.450425</td>\n",
              "      <td>1456.491704</td>\n",
              "    </tr>\n",
              "    <tr>\n",
              "      <th>84</th>\n",
              "      <td>(nm2828569, nm9870562)</td>\n",
              "      <td>(nm10001134, nm9870565, nm9871162)</td>\n",
              "      <td>0.450790</td>\n",
              "      <td>1457.671527</td>\n",
              "    </tr>\n",
              "    <tr>\n",
              "      <th>87</th>\n",
              "      <td>nm9870565</td>\n",
              "      <td>(nm10001134, nm2828569, nm9870562, nm9871162)</td>\n",
              "      <td>0.683241</td>\n",
              "      <td>2209.325353</td>\n",
              "    </tr>\n",
              "    <tr>\n",
              "      <th>77</th>\n",
              "      <td>(nm9870562, nm9870565)</td>\n",
              "      <td>(nm10001134, nm2828569, nm9871162)</td>\n",
              "      <td>0.743984</td>\n",
              "      <td>2405.742647</td>\n",
              "    </tr>\n",
              "    <tr>\n",
              "      <th>56</th>\n",
              "      <td>nm4013410</td>\n",
              "      <td>(nm5426054, nm7356625, nm7665578, nm8905840)</td>\n",
              "      <td>0.757168</td>\n",
              "      <td>1563.419201</td>\n",
              "    </tr>\n",
              "    <tr>\n",
              "      <th>88</th>\n",
              "      <td>nm9871162</td>\n",
              "      <td>(nm10001134, nm2828569, nm9870562, nm9870565)</td>\n",
              "      <td>0.808279</td>\n",
              "      <td>2613.646333</td>\n",
              "    </tr>\n",
              "    <tr>\n",
              "      <th>61</th>\n",
              "      <td>(nm2828569, nm9870562, nm9870565, nm9871162)</td>\n",
              "      <td>nm10001134</td>\n",
              "      <td>0.808279</td>\n",
              "      <td>2613.646333</td>\n",
              "    </tr>\n",
              "    <tr>\n",
              "      <th>66</th>\n",
              "      <td>(nm9870562, nm9870565, nm9871162)</td>\n",
              "      <td>(nm10001134, nm2828569)</td>\n",
              "      <td>0.808279</td>\n",
              "      <td>2613.646333</td>\n",
              "    </tr>\n",
              "    <tr>\n",
              "      <th>67</th>\n",
              "      <td>(nm2828569, nm9870565, nm9871162)</td>\n",
              "      <td>(nm10001134, nm9870562)</td>\n",
              "      <td>0.808279</td>\n",
              "      <td>2613.646333</td>\n",
              "    </tr>\n",
              "    <tr>\n",
              "      <th>71</th>\n",
              "      <td>(nm2828569, nm9870562, nm9870565)</td>\n",
              "      <td>(nm10001134, nm9871162)</td>\n",
              "      <td>0.808279</td>\n",
              "      <td>2613.646333</td>\n",
              "    </tr>\n",
              "    <tr>\n",
              "      <th>75</th>\n",
              "      <td>(nm2828569, nm9870565)</td>\n",
              "      <td>(nm10001134, nm9870562, nm9871162)</td>\n",
              "      <td>0.808279</td>\n",
              "      <td>2613.646333</td>\n",
              "    </tr>\n",
              "    <tr>\n",
              "      <th>65</th>\n",
              "      <td>(nm2828569, nm9870562, nm9871162)</td>\n",
              "      <td>(nm10001134, nm9870565)</td>\n",
              "      <td>0.808279</td>\n",
              "      <td>2613.646333</td>\n",
              "    </tr>\n",
              "    <tr>\n",
              "      <th>76</th>\n",
              "      <td>(nm9870562, nm9871162)</td>\n",
              "      <td>(nm10001134, nm2828569, nm9870565)</td>\n",
              "      <td>0.808279</td>\n",
              "      <td>2613.646333</td>\n",
              "    </tr>\n",
              "    <tr>\n",
              "      <th>83</th>\n",
              "      <td>(nm9870565, nm9871162)</td>\n",
              "      <td>(nm10001134, nm2828569, nm9870562)</td>\n",
              "      <td>0.808279</td>\n",
              "      <td>2613.646333</td>\n",
              "    </tr>\n",
              "    <tr>\n",
              "      <th>80</th>\n",
              "      <td>(nm2828569, nm9871162)</td>\n",
              "      <td>(nm10001134, nm9870562, nm9870565)</td>\n",
              "      <td>0.808279</td>\n",
              "      <td>2613.646333</td>\n",
              "    </tr>\n",
              "    <tr>\n",
              "      <th>28</th>\n",
              "      <td>nm3480406</td>\n",
              "      <td>(nm10625684, nm5800197, nm8230796, nm8284549)</td>\n",
              "      <td>0.996596</td>\n",
              "      <td>3062.971064</td>\n",
              "    </tr>\n",
              "    <tr>\n",
              "      <th>29</th>\n",
              "      <td>nm8230796</td>\n",
              "      <td>(nm10625684, nm3480406, nm5800197, nm8284549)</td>\n",
              "      <td>0.997445</td>\n",
              "      <td>3065.580068</td>\n",
              "    </tr>\n",
              "    <tr>\n",
              "      <th>59</th>\n",
              "      <td>nm5426054</td>\n",
              "      <td>(nm4013410, nm7356625, nm7665578, nm8905840)</td>\n",
              "      <td>0.997710</td>\n",
              "      <td>2060.097882</td>\n",
              "    </tr>\n",
              "    <tr>\n",
              "      <th>57</th>\n",
              "      <td>nm7356625</td>\n",
              "      <td>(nm4013410, nm5426054, nm7665578, nm8905840)</td>\n",
              "      <td>0.998282</td>\n",
              "      <td>2061.277778</td>\n",
              "    </tr>\n",
              "  </tbody>\n",
              "</table>\n",
              "</div>"
            ],
            "text/plain": [
              "                                               X  ...         Lift\n",
              "89                                     nm9870562  ...  1223.314412\n",
              "86                                     nm2828569  ...  1456.491704\n",
              "84                        (nm2828569, nm9870562)  ...  1457.671527\n",
              "87                                     nm9870565  ...  2209.325353\n",
              "77                        (nm9870562, nm9870565)  ...  2405.742647\n",
              "56                                     nm4013410  ...  1563.419201\n",
              "88                                     nm9871162  ...  2613.646333\n",
              "61  (nm2828569, nm9870562, nm9870565, nm9871162)  ...  2613.646333\n",
              "66             (nm9870562, nm9870565, nm9871162)  ...  2613.646333\n",
              "67             (nm2828569, nm9870565, nm9871162)  ...  2613.646333\n",
              "71             (nm2828569, nm9870562, nm9870565)  ...  2613.646333\n",
              "75                        (nm2828569, nm9870565)  ...  2613.646333\n",
              "65             (nm2828569, nm9870562, nm9871162)  ...  2613.646333\n",
              "76                        (nm9870562, nm9871162)  ...  2613.646333\n",
              "83                        (nm9870565, nm9871162)  ...  2613.646333\n",
              "80                        (nm2828569, nm9871162)  ...  2613.646333\n",
              "28                                     nm3480406  ...  3062.971064\n",
              "29                                     nm8230796  ...  3065.580068\n",
              "59                                     nm5426054  ...  2060.097882\n",
              "57                                     nm7356625  ...  2061.277778\n",
              "\n",
              "[20 rows x 4 columns]"
            ]
          },
          "metadata": {
            "tags": []
          },
          "execution_count": 31
        }
      ]
    },
    {
      "cell_type": "code",
      "metadata": {
        "colab": {
          "base_uri": "https://localhost:8080/",
          "height": 669
        },
        "id": "2MuhFVQe8HvB",
        "outputId": "035b3e62-6467-40e8-90bd-faa1aebffd50"
      },
      "source": [
        "a_rules.sort_values('Confidence').tail(20)"
      ],
      "execution_count": 32,
      "outputs": [
        {
          "output_type": "execute_result",
          "data": {
            "text/html": [
              "<div>\n",
              "<style scoped>\n",
              "    .dataframe tbody tr th:only-of-type {\n",
              "        vertical-align: middle;\n",
              "    }\n",
              "\n",
              "    .dataframe tbody tr th {\n",
              "        vertical-align: top;\n",
              "    }\n",
              "\n",
              "    .dataframe thead th {\n",
              "        text-align: right;\n",
              "    }\n",
              "</style>\n",
              "<table border=\"1\" class=\"dataframe\">\n",
              "  <thead>\n",
              "    <tr style=\"text-align: right;\">\n",
              "      <th></th>\n",
              "      <th>X</th>\n",
              "      <th>Y</th>\n",
              "      <th>Confidence</th>\n",
              "      <th>Lift</th>\n",
              "    </tr>\n",
              "  </thead>\n",
              "  <tbody>\n",
              "    <tr>\n",
              "      <th>43</th>\n",
              "      <td>(nm4013410, nm5426054, nm8905840)</td>\n",
              "      <td>(nm7356625, nm7665578)</td>\n",
              "      <td>1.0</td>\n",
              "      <td>2064.825588</td>\n",
              "    </tr>\n",
              "    <tr>\n",
              "      <th>42</th>\n",
              "      <td>(nm5426054, nm7665578, nm8905840)</td>\n",
              "      <td>(nm4013410, nm7356625)</td>\n",
              "      <td>1.0</td>\n",
              "      <td>2064.825588</td>\n",
              "    </tr>\n",
              "    <tr>\n",
              "      <th>41</th>\n",
              "      <td>(nm5426054, nm7356625, nm8905840)</td>\n",
              "      <td>(nm4013410, nm7665578)</td>\n",
              "      <td>1.0</td>\n",
              "      <td>2064.825588</td>\n",
              "    </tr>\n",
              "    <tr>\n",
              "      <th>40</th>\n",
              "      <td>(nm4013410, nm5426054, nm7665578)</td>\n",
              "      <td>(nm7356625, nm8905840)</td>\n",
              "      <td>1.0</td>\n",
              "      <td>2064.825588</td>\n",
              "    </tr>\n",
              "    <tr>\n",
              "      <th>39</th>\n",
              "      <td>(nm4013410, nm7665578, nm8905840)</td>\n",
              "      <td>(nm5426054, nm7356625)</td>\n",
              "      <td>1.0</td>\n",
              "      <td>2064.825588</td>\n",
              "    </tr>\n",
              "    <tr>\n",
              "      <th>38</th>\n",
              "      <td>(nm4013410, nm7356625, nm7665578)</td>\n",
              "      <td>(nm5426054, nm8905840)</td>\n",
              "      <td>1.0</td>\n",
              "      <td>2064.825588</td>\n",
              "    </tr>\n",
              "    <tr>\n",
              "      <th>37</th>\n",
              "      <td>(nm5426054, nm7356625, nm7665578)</td>\n",
              "      <td>(nm4013410, nm8905840)</td>\n",
              "      <td>1.0</td>\n",
              "      <td>2064.825588</td>\n",
              "    </tr>\n",
              "    <tr>\n",
              "      <th>36</th>\n",
              "      <td>(nm4013410, nm7356625, nm8905840)</td>\n",
              "      <td>(nm5426054, nm7665578)</td>\n",
              "      <td>1.0</td>\n",
              "      <td>2064.825588</td>\n",
              "    </tr>\n",
              "    <tr>\n",
              "      <th>46</th>\n",
              "      <td>(nm4013410, nm8905840)</td>\n",
              "      <td>(nm5426054, nm7356625, nm7665578)</td>\n",
              "      <td>1.0</td>\n",
              "      <td>2064.825588</td>\n",
              "    </tr>\n",
              "    <tr>\n",
              "      <th>35</th>\n",
              "      <td>(nm7356625, nm7665578, nm8905840)</td>\n",
              "      <td>(nm4013410, nm5426054)</td>\n",
              "      <td>1.0</td>\n",
              "      <td>2064.825588</td>\n",
              "    </tr>\n",
              "    <tr>\n",
              "      <th>33</th>\n",
              "      <td>(nm5426054, nm7356625, nm7665578, nm8905840)</td>\n",
              "      <td>nm4013410</td>\n",
              "      <td>1.0</td>\n",
              "      <td>1563.419201</td>\n",
              "    </tr>\n",
              "    <tr>\n",
              "      <th>32</th>\n",
              "      <td>(nm4013410, nm5426054, nm7356625, nm7665578)</td>\n",
              "      <td>nm8905840</td>\n",
              "      <td>1.0</td>\n",
              "      <td>2062.459026</td>\n",
              "    </tr>\n",
              "    <tr>\n",
              "      <th>31</th>\n",
              "      <td>(nm4013410, nm5426054, nm7356625, nm8905840)</td>\n",
              "      <td>nm7665578</td>\n",
              "      <td>1.0</td>\n",
              "      <td>2064.825588</td>\n",
              "    </tr>\n",
              "    <tr>\n",
              "      <th>30</th>\n",
              "      <td>(nm4013410, nm5426054, nm7665578, nm8905840)</td>\n",
              "      <td>nm7356625</td>\n",
              "      <td>1.0</td>\n",
              "      <td>2061.277778</td>\n",
              "    </tr>\n",
              "    <tr>\n",
              "      <th>26</th>\n",
              "      <td>nm5800197</td>\n",
              "      <td>(nm10625684, nm3480406, nm8230796, nm8284549)</td>\n",
              "      <td>1.0</td>\n",
              "      <td>3073.433817</td>\n",
              "    </tr>\n",
              "    <tr>\n",
              "      <th>24</th>\n",
              "      <td>(nm10625684, nm8230796)</td>\n",
              "      <td>(nm3480406, nm5800197, nm8284549)</td>\n",
              "      <td>1.0</td>\n",
              "      <td>3073.433817</td>\n",
              "    </tr>\n",
              "    <tr>\n",
              "      <th>23</th>\n",
              "      <td>(nm3480406, nm5800197)</td>\n",
              "      <td>(nm10625684, nm8230796, nm8284549)</td>\n",
              "      <td>1.0</td>\n",
              "      <td>3073.433817</td>\n",
              "    </tr>\n",
              "    <tr>\n",
              "      <th>22</th>\n",
              "      <td>(nm5800197, nm8230796)</td>\n",
              "      <td>(nm10625684, nm3480406, nm8284549)</td>\n",
              "      <td>1.0</td>\n",
              "      <td>3073.433817</td>\n",
              "    </tr>\n",
              "    <tr>\n",
              "      <th>34</th>\n",
              "      <td>(nm4013410, nm7356625, nm7665578, nm8905840)</td>\n",
              "      <td>nm5426054</td>\n",
              "      <td>1.0</td>\n",
              "      <td>2060.097882</td>\n",
              "    </tr>\n",
              "    <tr>\n",
              "      <th>44</th>\n",
              "      <td>(nm4013410, nm5426054, nm7356625)</td>\n",
              "      <td>(nm7665578, nm8905840)</td>\n",
              "      <td>1.0</td>\n",
              "      <td>2064.825588</td>\n",
              "    </tr>\n",
              "  </tbody>\n",
              "</table>\n",
              "</div>"
            ],
            "text/plain": [
              "                                               X  ...         Lift\n",
              "43             (nm4013410, nm5426054, nm8905840)  ...  2064.825588\n",
              "42             (nm5426054, nm7665578, nm8905840)  ...  2064.825588\n",
              "41             (nm5426054, nm7356625, nm8905840)  ...  2064.825588\n",
              "40             (nm4013410, nm5426054, nm7665578)  ...  2064.825588\n",
              "39             (nm4013410, nm7665578, nm8905840)  ...  2064.825588\n",
              "38             (nm4013410, nm7356625, nm7665578)  ...  2064.825588\n",
              "37             (nm5426054, nm7356625, nm7665578)  ...  2064.825588\n",
              "36             (nm4013410, nm7356625, nm8905840)  ...  2064.825588\n",
              "46                        (nm4013410, nm8905840)  ...  2064.825588\n",
              "35             (nm7356625, nm7665578, nm8905840)  ...  2064.825588\n",
              "33  (nm5426054, nm7356625, nm7665578, nm8905840)  ...  1563.419201\n",
              "32  (nm4013410, nm5426054, nm7356625, nm7665578)  ...  2062.459026\n",
              "31  (nm4013410, nm5426054, nm7356625, nm8905840)  ...  2064.825588\n",
              "30  (nm4013410, nm5426054, nm7665578, nm8905840)  ...  2061.277778\n",
              "26                                     nm5800197  ...  3073.433817\n",
              "24                       (nm10625684, nm8230796)  ...  3073.433817\n",
              "23                        (nm3480406, nm5800197)  ...  3073.433817\n",
              "22                        (nm5800197, nm8230796)  ...  3073.433817\n",
              "34  (nm4013410, nm7356625, nm7665578, nm8905840)  ...  2060.097882\n",
              "44             (nm4013410, nm5426054, nm7356625)  ...  2064.825588\n",
              "\n",
              "[20 rows x 4 columns]"
            ]
          },
          "metadata": {
            "tags": []
          },
          "execution_count": 32
        }
      ]
    },
    {
      "cell_type": "code",
      "metadata": {
        "colab": {
          "base_uri": "https://localhost:8080/",
          "height": 669
        },
        "id": "mQ4RJQXqwGNv",
        "outputId": "c30ff956-30aa-4054-d8d4-56ebacb03b0f"
      },
      "source": [
        "a_rules.sort_values('Lift').head(20)"
      ],
      "execution_count": 33,
      "outputs": [
        {
          "output_type": "execute_result",
          "data": {
            "text/html": [
              "<div>\n",
              "<style scoped>\n",
              "    .dataframe tbody tr th:only-of-type {\n",
              "        vertical-align: middle;\n",
              "    }\n",
              "\n",
              "    .dataframe tbody tr th {\n",
              "        vertical-align: top;\n",
              "    }\n",
              "\n",
              "    .dataframe thead th {\n",
              "        text-align: right;\n",
              "    }\n",
              "</style>\n",
              "<table border=\"1\" class=\"dataframe\">\n",
              "  <thead>\n",
              "    <tr style=\"text-align: right;\">\n",
              "      <th></th>\n",
              "      <th>X</th>\n",
              "      <th>Y</th>\n",
              "      <th>Confidence</th>\n",
              "      <th>Lift</th>\n",
              "    </tr>\n",
              "  </thead>\n",
              "  <tbody>\n",
              "    <tr>\n",
              "      <th>89</th>\n",
              "      <td>nm9870562</td>\n",
              "      <td>(nm10001134, nm2828569, nm9870565, nm9871162)</td>\n",
              "      <td>0.378314</td>\n",
              "      <td>1223.314412</td>\n",
              "    </tr>\n",
              "    <tr>\n",
              "      <th>62</th>\n",
              "      <td>(nm10001134, nm2828569, nm9870565, nm9871162)</td>\n",
              "      <td>nm9870562</td>\n",
              "      <td>1.000000</td>\n",
              "      <td>1223.314412</td>\n",
              "    </tr>\n",
              "    <tr>\n",
              "      <th>86</th>\n",
              "      <td>nm2828569</td>\n",
              "      <td>(nm10001134, nm9870562, nm9870565, nm9871162)</td>\n",
              "      <td>0.450425</td>\n",
              "      <td>1456.491704</td>\n",
              "    </tr>\n",
              "    <tr>\n",
              "      <th>64</th>\n",
              "      <td>(nm10001134, nm9870562, nm9870565, nm9871162)</td>\n",
              "      <td>nm2828569</td>\n",
              "      <td>1.000000</td>\n",
              "      <td>1456.491704</td>\n",
              "    </tr>\n",
              "    <tr>\n",
              "      <th>84</th>\n",
              "      <td>(nm2828569, nm9870562)</td>\n",
              "      <td>(nm10001134, nm9870565, nm9871162)</td>\n",
              "      <td>0.450790</td>\n",
              "      <td>1457.671527</td>\n",
              "    </tr>\n",
              "    <tr>\n",
              "      <th>70</th>\n",
              "      <td>(nm10001134, nm9870565, nm9871162)</td>\n",
              "      <td>(nm2828569, nm9870562)</td>\n",
              "      <td>1.000000</td>\n",
              "      <td>1457.671527</td>\n",
              "    </tr>\n",
              "    <tr>\n",
              "      <th>56</th>\n",
              "      <td>nm4013410</td>\n",
              "      <td>(nm5426054, nm7356625, nm7665578, nm8905840)</td>\n",
              "      <td>0.757168</td>\n",
              "      <td>1563.419201</td>\n",
              "    </tr>\n",
              "    <tr>\n",
              "      <th>33</th>\n",
              "      <td>(nm5426054, nm7356625, nm7665578, nm8905840)</td>\n",
              "      <td>nm4013410</td>\n",
              "      <td>1.000000</td>\n",
              "      <td>1563.419201</td>\n",
              "    </tr>\n",
              "    <tr>\n",
              "      <th>59</th>\n",
              "      <td>nm5426054</td>\n",
              "      <td>(nm4013410, nm7356625, nm7665578, nm8905840)</td>\n",
              "      <td>0.997710</td>\n",
              "      <td>2060.097882</td>\n",
              "    </tr>\n",
              "    <tr>\n",
              "      <th>34</th>\n",
              "      <td>(nm4013410, nm7356625, nm7665578, nm8905840)</td>\n",
              "      <td>nm5426054</td>\n",
              "      <td>1.000000</td>\n",
              "      <td>2060.097882</td>\n",
              "    </tr>\n",
              "    <tr>\n",
              "      <th>57</th>\n",
              "      <td>nm7356625</td>\n",
              "      <td>(nm4013410, nm5426054, nm7665578, nm8905840)</td>\n",
              "      <td>0.998282</td>\n",
              "      <td>2061.277778</td>\n",
              "    </tr>\n",
              "    <tr>\n",
              "      <th>30</th>\n",
              "      <td>(nm4013410, nm5426054, nm7665578, nm8905840)</td>\n",
              "      <td>nm7356625</td>\n",
              "      <td>1.000000</td>\n",
              "      <td>2061.277778</td>\n",
              "    </tr>\n",
              "    <tr>\n",
              "      <th>55</th>\n",
              "      <td>nm8905840</td>\n",
              "      <td>(nm4013410, nm5426054, nm7356625, nm7665578)</td>\n",
              "      <td>0.998854</td>\n",
              "      <td>2062.459026</td>\n",
              "    </tr>\n",
              "    <tr>\n",
              "      <th>32</th>\n",
              "      <td>(nm4013410, nm5426054, nm7356625, nm7665578)</td>\n",
              "      <td>nm8905840</td>\n",
              "      <td>1.000000</td>\n",
              "      <td>2062.459026</td>\n",
              "    </tr>\n",
              "    <tr>\n",
              "      <th>35</th>\n",
              "      <td>(nm7356625, nm7665578, nm8905840)</td>\n",
              "      <td>(nm4013410, nm5426054)</td>\n",
              "      <td>1.000000</td>\n",
              "      <td>2064.825588</td>\n",
              "    </tr>\n",
              "    <tr>\n",
              "      <th>36</th>\n",
              "      <td>(nm4013410, nm7356625, nm8905840)</td>\n",
              "      <td>(nm5426054, nm7665578)</td>\n",
              "      <td>1.000000</td>\n",
              "      <td>2064.825588</td>\n",
              "    </tr>\n",
              "    <tr>\n",
              "      <th>37</th>\n",
              "      <td>(nm5426054, nm7356625, nm7665578)</td>\n",
              "      <td>(nm4013410, nm8905840)</td>\n",
              "      <td>1.000000</td>\n",
              "      <td>2064.825588</td>\n",
              "    </tr>\n",
              "    <tr>\n",
              "      <th>38</th>\n",
              "      <td>(nm4013410, nm7356625, nm7665578)</td>\n",
              "      <td>(nm5426054, nm8905840)</td>\n",
              "      <td>1.000000</td>\n",
              "      <td>2064.825588</td>\n",
              "    </tr>\n",
              "    <tr>\n",
              "      <th>39</th>\n",
              "      <td>(nm4013410, nm7665578, nm8905840)</td>\n",
              "      <td>(nm5426054, nm7356625)</td>\n",
              "      <td>1.000000</td>\n",
              "      <td>2064.825588</td>\n",
              "    </tr>\n",
              "    <tr>\n",
              "      <th>40</th>\n",
              "      <td>(nm4013410, nm5426054, nm7665578)</td>\n",
              "      <td>(nm7356625, nm8905840)</td>\n",
              "      <td>1.000000</td>\n",
              "      <td>2064.825588</td>\n",
              "    </tr>\n",
              "  </tbody>\n",
              "</table>\n",
              "</div>"
            ],
            "text/plain": [
              "                                                X  ...         Lift\n",
              "89                                      nm9870562  ...  1223.314412\n",
              "62  (nm10001134, nm2828569, nm9870565, nm9871162)  ...  1223.314412\n",
              "86                                      nm2828569  ...  1456.491704\n",
              "64  (nm10001134, nm9870562, nm9870565, nm9871162)  ...  1456.491704\n",
              "84                         (nm2828569, nm9870562)  ...  1457.671527\n",
              "70             (nm10001134, nm9870565, nm9871162)  ...  1457.671527\n",
              "56                                      nm4013410  ...  1563.419201\n",
              "33   (nm5426054, nm7356625, nm7665578, nm8905840)  ...  1563.419201\n",
              "59                                      nm5426054  ...  2060.097882\n",
              "34   (nm4013410, nm7356625, nm7665578, nm8905840)  ...  2060.097882\n",
              "57                                      nm7356625  ...  2061.277778\n",
              "30   (nm4013410, nm5426054, nm7665578, nm8905840)  ...  2061.277778\n",
              "55                                      nm8905840  ...  2062.459026\n",
              "32   (nm4013410, nm5426054, nm7356625, nm7665578)  ...  2062.459026\n",
              "35              (nm7356625, nm7665578, nm8905840)  ...  2064.825588\n",
              "36              (nm4013410, nm7356625, nm8905840)  ...  2064.825588\n",
              "37              (nm5426054, nm7356625, nm7665578)  ...  2064.825588\n",
              "38              (nm4013410, nm7356625, nm7665578)  ...  2064.825588\n",
              "39              (nm4013410, nm7665578, nm8905840)  ...  2064.825588\n",
              "40              (nm4013410, nm5426054, nm7665578)  ...  2064.825588\n",
              "\n",
              "[20 rows x 4 columns]"
            ]
          },
          "metadata": {
            "tags": []
          },
          "execution_count": 33
        }
      ]
    },
    {
      "cell_type": "code",
      "metadata": {
        "colab": {
          "base_uri": "https://localhost:8080/",
          "height": 669
        },
        "id": "KBO33zdF8N4V",
        "outputId": "c2e5ce91-6ea5-4cdf-9e66-35ece04fb6bd"
      },
      "source": [
        "a_rules.sort_values('Lift').tail(20)"
      ],
      "execution_count": 34,
      "outputs": [
        {
          "output_type": "execute_result",
          "data": {
            "text/html": [
              "<div>\n",
              "<style scoped>\n",
              "    .dataframe tbody tr th:only-of-type {\n",
              "        vertical-align: middle;\n",
              "    }\n",
              "\n",
              "    .dataframe tbody tr th {\n",
              "        vertical-align: top;\n",
              "    }\n",
              "\n",
              "    .dataframe thead th {\n",
              "        text-align: right;\n",
              "    }\n",
              "</style>\n",
              "<table border=\"1\" class=\"dataframe\">\n",
              "  <thead>\n",
              "    <tr style=\"text-align: right;\">\n",
              "      <th></th>\n",
              "      <th>X</th>\n",
              "      <th>Y</th>\n",
              "      <th>Confidence</th>\n",
              "      <th>Lift</th>\n",
              "    </tr>\n",
              "  </thead>\n",
              "  <tbody>\n",
              "    <tr>\n",
              "      <th>26</th>\n",
              "      <td>nm5800197</td>\n",
              "      <td>(nm10625684, nm3480406, nm8230796, nm8284549)</td>\n",
              "      <td>1.0</td>\n",
              "      <td>3073.433817</td>\n",
              "    </tr>\n",
              "    <tr>\n",
              "      <th>24</th>\n",
              "      <td>(nm10625684, nm8230796)</td>\n",
              "      <td>(nm3480406, nm5800197, nm8284549)</td>\n",
              "      <td>1.0</td>\n",
              "      <td>3073.433817</td>\n",
              "    </tr>\n",
              "    <tr>\n",
              "      <th>23</th>\n",
              "      <td>(nm3480406, nm5800197)</td>\n",
              "      <td>(nm10625684, nm8230796, nm8284549)</td>\n",
              "      <td>1.0</td>\n",
              "      <td>3073.433817</td>\n",
              "    </tr>\n",
              "    <tr>\n",
              "      <th>22</th>\n",
              "      <td>(nm5800197, nm8230796)</td>\n",
              "      <td>(nm10625684, nm3480406, nm8284549)</td>\n",
              "      <td>1.0</td>\n",
              "      <td>3073.433817</td>\n",
              "    </tr>\n",
              "    <tr>\n",
              "      <th>21</th>\n",
              "      <td>(nm10625684, nm3480406)</td>\n",
              "      <td>(nm5800197, nm8230796, nm8284549)</td>\n",
              "      <td>1.0</td>\n",
              "      <td>3073.433817</td>\n",
              "    </tr>\n",
              "    <tr>\n",
              "      <th>20</th>\n",
              "      <td>(nm10625684, nm8284549)</td>\n",
              "      <td>(nm3480406, nm5800197, nm8230796)</td>\n",
              "      <td>1.0</td>\n",
              "      <td>3073.433817</td>\n",
              "    </tr>\n",
              "    <tr>\n",
              "      <th>19</th>\n",
              "      <td>(nm3480406, nm8230796)</td>\n",
              "      <td>(nm10625684, nm5800197, nm8284549)</td>\n",
              "      <td>1.0</td>\n",
              "      <td>3073.433817</td>\n",
              "    </tr>\n",
              "    <tr>\n",
              "      <th>6</th>\n",
              "      <td>(nm10625684, nm5800197, nm8230796)</td>\n",
              "      <td>(nm3480406, nm8284549)</td>\n",
              "      <td>1.0</td>\n",
              "      <td>3073.433817</td>\n",
              "    </tr>\n",
              "    <tr>\n",
              "      <th>18</th>\n",
              "      <td>(nm10625684, nm5800197)</td>\n",
              "      <td>(nm3480406, nm8230796, nm8284549)</td>\n",
              "      <td>1.0</td>\n",
              "      <td>3073.433817</td>\n",
              "    </tr>\n",
              "    <tr>\n",
              "      <th>16</th>\n",
              "      <td>(nm3480406, nm8284549)</td>\n",
              "      <td>(nm10625684, nm5800197, nm8230796)</td>\n",
              "      <td>1.0</td>\n",
              "      <td>3073.433817</td>\n",
              "    </tr>\n",
              "    <tr>\n",
              "      <th>15</th>\n",
              "      <td>(nm8230796, nm8284549)</td>\n",
              "      <td>(nm10625684, nm3480406, nm5800197)</td>\n",
              "      <td>1.0</td>\n",
              "      <td>3073.433817</td>\n",
              "    </tr>\n",
              "    <tr>\n",
              "      <th>14</th>\n",
              "      <td>(nm10625684, nm5800197, nm8284549)</td>\n",
              "      <td>(nm3480406, nm8230796)</td>\n",
              "      <td>1.0</td>\n",
              "      <td>3073.433817</td>\n",
              "    </tr>\n",
              "    <tr>\n",
              "      <th>13</th>\n",
              "      <td>(nm10625684, nm3480406, nm8284549)</td>\n",
              "      <td>(nm5800197, nm8230796)</td>\n",
              "      <td>1.0</td>\n",
              "      <td>3073.433817</td>\n",
              "    </tr>\n",
              "    <tr>\n",
              "      <th>12</th>\n",
              "      <td>(nm10625684, nm3480406, nm5800197)</td>\n",
              "      <td>(nm8230796, nm8284549)</td>\n",
              "      <td>1.0</td>\n",
              "      <td>3073.433817</td>\n",
              "    </tr>\n",
              "    <tr>\n",
              "      <th>11</th>\n",
              "      <td>(nm3480406, nm5800197, nm8230796)</td>\n",
              "      <td>(nm10625684, nm8284549)</td>\n",
              "      <td>1.0</td>\n",
              "      <td>3073.433817</td>\n",
              "    </tr>\n",
              "    <tr>\n",
              "      <th>10</th>\n",
              "      <td>(nm3480406, nm8230796, nm8284549)</td>\n",
              "      <td>(nm10625684, nm5800197)</td>\n",
              "      <td>1.0</td>\n",
              "      <td>3073.433817</td>\n",
              "    </tr>\n",
              "    <tr>\n",
              "      <th>9</th>\n",
              "      <td>(nm10625684, nm3480406, nm8230796)</td>\n",
              "      <td>(nm5800197, nm8284549)</td>\n",
              "      <td>1.0</td>\n",
              "      <td>3073.433817</td>\n",
              "    </tr>\n",
              "    <tr>\n",
              "      <th>8</th>\n",
              "      <td>(nm3480406, nm5800197, nm8284549)</td>\n",
              "      <td>(nm10625684, nm8230796)</td>\n",
              "      <td>1.0</td>\n",
              "      <td>3073.433817</td>\n",
              "    </tr>\n",
              "    <tr>\n",
              "      <th>17</th>\n",
              "      <td>(nm5800197, nm8284549)</td>\n",
              "      <td>(nm10625684, nm3480406, nm8230796)</td>\n",
              "      <td>1.0</td>\n",
              "      <td>3073.433817</td>\n",
              "    </tr>\n",
              "    <tr>\n",
              "      <th>5</th>\n",
              "      <td>(nm10625684, nm8230796, nm8284549)</td>\n",
              "      <td>(nm3480406, nm5800197)</td>\n",
              "      <td>1.0</td>\n",
              "      <td>3073.433817</td>\n",
              "    </tr>\n",
              "  </tbody>\n",
              "</table>\n",
              "</div>"
            ],
            "text/plain": [
              "                                     X  ...         Lift\n",
              "26                           nm5800197  ...  3073.433817\n",
              "24             (nm10625684, nm8230796)  ...  3073.433817\n",
              "23              (nm3480406, nm5800197)  ...  3073.433817\n",
              "22              (nm5800197, nm8230796)  ...  3073.433817\n",
              "21             (nm10625684, nm3480406)  ...  3073.433817\n",
              "20             (nm10625684, nm8284549)  ...  3073.433817\n",
              "19              (nm3480406, nm8230796)  ...  3073.433817\n",
              "6   (nm10625684, nm5800197, nm8230796)  ...  3073.433817\n",
              "18             (nm10625684, nm5800197)  ...  3073.433817\n",
              "16              (nm3480406, nm8284549)  ...  3073.433817\n",
              "15              (nm8230796, nm8284549)  ...  3073.433817\n",
              "14  (nm10625684, nm5800197, nm8284549)  ...  3073.433817\n",
              "13  (nm10625684, nm3480406, nm8284549)  ...  3073.433817\n",
              "12  (nm10625684, nm3480406, nm5800197)  ...  3073.433817\n",
              "11   (nm3480406, nm5800197, nm8230796)  ...  3073.433817\n",
              "10   (nm3480406, nm8230796, nm8284549)  ...  3073.433817\n",
              "9   (nm10625684, nm3480406, nm8230796)  ...  3073.433817\n",
              "8    (nm3480406, nm5800197, nm8284549)  ...  3073.433817\n",
              "17              (nm5800197, nm8284549)  ...  3073.433817\n",
              "5   (nm10625684, nm8230796, nm8284549)  ...  3073.433817\n",
              "\n",
              "[20 rows x 4 columns]"
            ]
          },
          "metadata": {
            "tags": []
          },
          "execution_count": 34
        }
      ]
    }
  ]
}